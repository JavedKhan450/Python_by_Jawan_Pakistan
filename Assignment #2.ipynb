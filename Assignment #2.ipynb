{
 "cells": [
  {
   "cell_type": "raw",
   "metadata": {},
   "source": [
    "80 to 100 ---> A+\n",
    "70 to 80 ---> A\n",
    "60 to 70 ---> B\n",
    "50 to 60 ---> C\n",
    "40 to 50 ---> D\n",
    "Greater than 33 ---> E\n",
    "less than 33 ---> Fail\n",
    "include minas 10"
   ]
  },
  {
   "cell_type": "code",
   "execution_count": 10,
   "metadata": {},
   "outputs": [
    {
     "name": "stdout",
     "output_type": "stream",
     "text": [
      "C Grade\n"
     ]
    }
   ],
   "source": [
    "percent = 51;\n",
    "\n",
    "if percent < 100 and percent > 80:\n",
    "    print('A+ Grade');\n",
    "elif percent < 80 and percent > 70:\n",
    "    print('A Grade');\n",
    "elif percent < 70 and percent > 60:\n",
    "    print('B Grade');\n",
    "elif percent < 60 and percent > 70:\n",
    "    print('B Grade');\n",
    "elif percent < 60 and percent > 50:\n",
    "    print('C Grade');\n",
    "elif percent < 50 and percent > 40:\n",
    "    print('D Grade');\n",
    "elif percent < 40 and percent >= 33:\n",
    "    print('E Grade');\n",
    "elif percent > 33:\n",
    "    print('Fail');\n",
    "else:\n",
    "    print('Rechaking');"
   ]
  },
  {
   "cell_type": "code",
   "execution_count": 9,
   "metadata": {},
   "outputs": [
    {
     "name": "stdout",
     "output_type": "stream",
     "text": [
      "Rechaking\n"
     ]
    }
   ],
   "source": [
    "percent = -10;\n",
    "\n",
    "if percent < 100 and percent > 80:\n",
    "    print('A+ Grade');\n",
    "elif percent < 80 and percent > 70:\n",
    "    print('A Grade');\n",
    "elif percent < 70 and percent > 60:\n",
    "    print('B Grade');\n",
    "elif percent < 60 and percent > 70:\n",
    "    print('B Grade');\n",
    "elif percent < 60 and percent > 50:\n",
    "    print('C Grade');\n",
    "elif percent < 50 and percent > 40:\n",
    "    print('D Grade');\n",
    "elif percent < 40 and percent >= 33:\n",
    "    print('E Grade');\n",
    "elif percent > 33:\n",
    "    print('Fail');\n",
    "else:\n",
    "    print('Rechaking');"
   ]
  },
  {
   "cell_type": "code",
   "execution_count": 14,
   "metadata": {},
   "outputs": [],
   "source": [
    "percent = -10;\n",
    "\n",
    "if percent < 100 and percent > 80:\n",
    "    print('A+ Grade');\n",
    "elif percent < 80 and percent > 70:\n",
    "    print('A Grade');\n",
    "elif percent < 70 and percent > 60:\n",
    "    print('B Grade');\n",
    "elif percent < 60 and percent > 70:\n",
    "    print('B Grade');\n",
    "elif percent < 60 and percent > 50:\n",
    "    print('C Grade');\n",
    "elif percent < 50 and percent > 40:\n",
    "    print('D Grade');\n",
    "elif percent < 40 and percent >= 33:\n",
    "    print('E Grade');\n",
    "elif percent > 33:\n",
    "    print('Fail');"
   ]
  },
  {
   "cell_type": "code",
   "execution_count": 4,
   "metadata": {},
   "outputs": [
    {
     "name": "stdout",
     "output_type": "stream",
     "text": [
      "A+ Grade\n"
     ]
    }
   ],
   "source": []
  },
  {
   "cell_type": "code",
   "execution_count": null,
   "metadata": {},
   "outputs": [],
   "source": []
  }
 ],
 "metadata": {
  "kernelspec": {
   "display_name": "Python 3",
   "language": "python",
   "name": "python3"
  },
  "language_info": {
   "codemirror_mode": {
    "name": "ipython",
    "version": 3
   },
   "file_extension": ".py",
   "mimetype": "text/x-python",
   "name": "python",
   "nbconvert_exporter": "python",
   "pygments_lexer": "ipython3",
   "version": "3.7.4"
  }
 },
 "nbformat": 4,
 "nbformat_minor": 2
}
